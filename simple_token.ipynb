{
  "nbformat": 4,
  "nbformat_minor": 0,
  "metadata": {
    "colab": {
      "provenance": []
    },
    "kernelspec": {
      "name": "python3",
      "display_name": "Python 3"
    },
    "language_info": {
      "name": "python"
    }
  },
  "cells": [
    {
      "cell_type": "code",
      "execution_count": 1,
      "metadata": {
        "id": "wAnNvlKfOWnR"
      },
      "outputs": [],
      "source": [
        "from tensorflow.keras.preprocessing.text import Tokenizer\n",
        "from tensorflow.keras.preprocessing.sequence import pad_sequences"
      ]
    },
    {
      "cell_type": "code",
      "source": [
        "texts=[\"i love deep learning , it is a tyepe of machine learing\",\"RNNs are powerful for sequence data\",\"Tokenizer is the first step\"]"
      ],
      "metadata": {
        "id": "a_MVgryZOsrt"
      },
      "execution_count": 15,
      "outputs": []
    },
    {
      "cell_type": "code",
      "source": [
        "tokenizer=Tokenizer()"
      ],
      "metadata": {
        "id": "gMPQCjqOPBLl"
      },
      "execution_count": 16,
      "outputs": []
    },
    {
      "cell_type": "code",
      "source": [
        "tokenizer.fit_on_texts(texts)"
      ],
      "metadata": {
        "id": "MBo5qGEmPHpe"
      },
      "execution_count": 17,
      "outputs": []
    },
    {
      "cell_type": "code",
      "source": [
        "sequence=tokenizer.texts_to_sequences(texts)"
      ],
      "metadata": {
        "id": "mlU9wLDjPadO"
      },
      "execution_count": 18,
      "outputs": []
    },
    {
      "cell_type": "code",
      "source": [
        "pad_sequence=pad_sequences(sequence,padding=\"pre\")"
      ],
      "metadata": {
        "id": "4p1aMCLcPQxy"
      },
      "execution_count": 21,
      "outputs": []
    },
    {
      "cell_type": "code",
      "source": [
        "print(\"wordindex\",tokenizer.word_index)\n",
        "print(\"sequence\",sequence)\n",
        "print(\"pad_sequence\",pad_sequence)"
      ],
      "metadata": {
        "colab": {
          "base_uri": "https://localhost:8080/"
        },
        "id": "RlCu2wuUQP-E",
        "outputId": "b8754baf-fafe-44fc-fc34-bce4f55105a9"
      },
      "execution_count": 22,
      "outputs": [
        {
          "output_type": "stream",
          "name": "stdout",
          "text": [
            "wordindex {'is': 1, 'i': 2, 'love': 3, 'deep': 4, 'learning': 5, 'it': 6, 'a': 7, 'tyepe': 8, 'of': 9, 'machine': 10, 'learing': 11, 'rnns': 12, 'are': 13, 'powerful': 14, 'for': 15, 'sequence': 16, 'data': 17, 'tokenizer': 18, 'the': 19, 'first': 20, 'step': 21}\n",
            "sequence [[2, 3, 4, 5, 6, 1, 7, 8, 9, 10, 11], [12, 13, 14, 15, 16, 17], [18, 1, 19, 20, 21]]\n",
            "pad_sequence [[ 2  3  4  5  6  1  7  8  9 10 11]\n",
            " [ 0  0  0  0  0 12 13 14 15 16 17]\n",
            " [ 0  0  0  0  0  0 18  1 19 20 21]]\n"
          ]
        }
      ]
    }
  ]
}